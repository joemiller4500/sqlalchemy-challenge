{
 "cells": [
  {
   "cell_type": "code",
   "execution_count": 1,
   "metadata": {},
   "outputs": [],
   "source": [
    "%matplotlib inline\n",
    "from matplotlib import style\n",
    "style.use('fivethirtyeight')\n",
    "import matplotlib.pyplot as plt"
   ]
  },
  {
   "cell_type": "code",
   "execution_count": 2,
   "metadata": {},
   "outputs": [],
   "source": [
    "import numpy as np\n",
    "import pandas as pd"
   ]
  },
  {
   "cell_type": "code",
   "execution_count": 3,
   "metadata": {},
   "outputs": [],
   "source": [
    "import datetime as dt"
   ]
  },
  {
   "cell_type": "markdown",
   "metadata": {},
   "source": [
    "# Reflect Tables into SQLAlchemy ORM"
   ]
  },
  {
   "cell_type": "code",
   "execution_count": 4,
   "metadata": {},
   "outputs": [],
   "source": [
    "# Python SQL toolkit and Object Relational Mapper\n",
    "import sqlalchemy\n",
    "from sqlalchemy.ext.automap import automap_base\n",
    "from sqlalchemy.orm import Session\n",
    "from sqlalchemy import create_engine, func, desc"
   ]
  },
  {
   "cell_type": "code",
   "execution_count": 5,
   "metadata": {},
   "outputs": [],
   "source": [
    "engine = create_engine(\"sqlite:///Resources/hawaii.sqlite\")"
   ]
  },
  {
   "cell_type": "code",
   "execution_count": 56,
   "metadata": {},
   "outputs": [],
   "source": [
    "# reflect an existing database into a new model\n",
    "Base = automap_base()\n",
    "# reflect the tables\n",
    "Base.prepare(engine, reflect=True)"
   ]
  },
  {
   "cell_type": "code",
   "execution_count": 7,
   "metadata": {},
   "outputs": [
    {
     "data": {
      "text/plain": [
       "['measurement', 'station']"
      ]
     },
     "execution_count": 7,
     "metadata": {},
     "output_type": "execute_result"
    }
   ],
   "source": [
    "# We can view all of the classes that automap found\n",
    "Base.classes.keys()"
   ]
  },
  {
   "cell_type": "code",
   "execution_count": 9,
   "metadata": {},
   "outputs": [],
   "source": [
    "# Save references to each table\n",
    "Measure = Base.classes.Measure\n",
    "Station = Base.classes.station"
   ]
  },
  {
   "cell_type": "code",
   "execution_count": 10,
   "metadata": {},
   "outputs": [],
   "source": [
    "# Create our session (link) from Python to the DB\n",
    "session = Session(engine)"
   ]
  },
  {
   "cell_type": "markdown",
   "metadata": {},
   "source": [
    "# Exploratory Climate Analysis"
   ]
  },
  {
   "cell_type": "code",
   "execution_count": 58,
   "metadata": {},
   "outputs": [
    {
     "data": {
      "image/png": "[encoded data removed]",
      "text/plain": [
       "<Figure size 864x576 with 1 Axes>"
      ]
     },
     "metadata": {},
     "output_type": "display_data"
    }
   ],
   "source": [
    "# Design a query to retrieve the last 12 months of precipitation data and plot the results\n",
    "\n",
    "year_ago = session.query(func.date.strftime(\"%m, %d %Y\", Measure.date)).\\\n",
    "    order_by(desc(Measure.date)).offset(365).limit(1).all()\n",
    "year_ago = year_ago[0]\n",
    "last_year = session.query(Measure.date, Measure.prcp).\\\n",
    "    filter(func.date.strftime(\"%Y-%m-%d\", Measure.date) > '2016-08-23').all()\n",
    "\n",
    "# Save the query results as a Pandas DataFrame and set the index to the date column\n",
    "last_year_df = pd.DataFrame(last_year)\n",
    "last_year_df['date'] = pd.to_datetime(last_year_df['date'])\n",
    "last_year_df.set_index('date', inplace=True)\n",
    "\n",
    "# Sort the dataframe by date\n",
    "last_year_df.sort_values(by=['date'], inplace=True)\n",
    "\n",
    "# Use Pandas Plotting with Matplotlib to plot the data\n",
    "fig,ax = plt.subplots(figsize=(12,8))\n",
    "ax.bar(last_year_df.index.values, last_year_df['prcp'], label=\"Precipitation\")\n",
    "ax.set(xlabel=\"Date\", ylabel=\"Inches\")\n",
    "plt.legend()\n",
    "\n",
    "output_file = \"Resources/inches_by_date.png\"\n",
    "fig.savefig(output_file, metadatadict={\"Created By\":\"Joe Miller\"})\n",
    "\n",
    "plt.show()"
   ]
  },
  {
   "cell_type": "code",
   "execution_count": 14,
   "metadata": {},
   "outputs": [
    {
     "data": {
      "text/html": [
       "<div>\n",
       "<style scoped>\n",
       "    .dataframe tbody tr th:only-of-type {\n",
       "        vertical-align: middle;\n",
       "    }\n",
       "\n",
       "    .dataframe tbody tr th {\n",
       "        vertical-align: top;\n",
       "    }\n",
       "\n",
       "    .dataframe thead th {\n",
       "        text-align: right;\n",
       "    }\n",
       "</style>\n",
       "<table border=\"1\" class=\"dataframe\">\n",
       "  <thead>\n",
       "    <tr style=\"text-align: right;\">\n",
       "      <th></th>\n",
       "      <th>prcp</th>\n",
       "    </tr>\n",
       "  </thead>\n",
       "  <tbody>\n",
       "    <tr>\n",
       "      <th>count</th>\n",
       "      <td>2015.000000</td>\n",
       "    </tr>\n",
       "    <tr>\n",
       "      <th>mean</th>\n",
       "      <td>0.176462</td>\n",
       "    </tr>\n",
       "    <tr>\n",
       "      <th>std</th>\n",
       "      <td>0.460288</td>\n",
       "    </tr>\n",
       "    <tr>\n",
       "      <th>min</th>\n",
       "      <td>0.000000</td>\n",
       "    </tr>\n",
       "    <tr>\n",
       "      <th>25%</th>\n",
       "      <td>0.000000</td>\n",
       "    </tr>\n",
       "    <tr>\n",
       "      <th>50%</th>\n",
       "      <td>0.020000</td>\n",
       "    </tr>\n",
       "    <tr>\n",
       "      <th>75%</th>\n",
       "      <td>0.130000</td>\n",
       "    </tr>\n",
       "    <tr>\n",
       "      <th>max</th>\n",
       "      <td>6.700000</td>\n",
       "    </tr>\n",
       "  </tbody>\n",
       "</table>\n",
       "</div>"
      ],
      "text/plain": [
       "              prcp\n",
       "count  2015.000000\n",
       "mean      0.176462\n",
       "std       0.460288\n",
       "min       0.000000\n",
       "25%       0.000000\n",
       "50%       0.020000\n",
       "75%       0.130000\n",
       "max       6.700000"
      ]
     },
     "execution_count": 14,
     "metadata": {},
     "output_type": "execute_result"
    }
   ],
   "source": [
    "# Use Pandas to calcualte the summary statistics for the precipitation data\n",
    "last_year_df.describe()"
   ]
  },
  {
   "cell_type": "code",
   "execution_count": 15,
   "metadata": {},
   "outputs": [
    {
     "data": {
      "text/plain": [
       "(9)"
      ]
     },
     "execution_count": 15,
     "metadata": {},
     "output_type": "execute_result"
    }
   ],
   "source": [
    "# Design a query to show how many stations are available in this dataset?\n",
    "session.query(func.count(Measure.station.distinct())).first()"
   ]
  },
  {
   "cell_type": "code",
   "execution_count": 16,
   "metadata": {},
   "outputs": [
    {
     "data": {
      "text/plain": [
       "[('USC00519281', 2772),\n",
       " ('USC00519397', 2724),\n",
       " ('USC00513117', 2709),\n",
       " ('USC00519523', 2669),\n",
       " ('USC00516128', 2612),\n",
       " ('USC00514830', 2202),\n",
       " ('USC00511918', 1979),\n",
       " ('USC00517948', 1372),\n",
       " ('USC00518838', 511)]"
      ]
     },
     "execution_count": 16,
     "metadata": {},
     "output_type": "execute_result"
    }
   ],
   "source": [
    "# What are the most active stations? (i.e. what stations have the most rows)?\n",
    "# List the stations and the counts in descending order.\n",
    "sel = [Measure.station,\n",
    "      func.count(Measure.date)]\n",
    "station_counts = session.query(*sel).\\\n",
    "    group_by(Measure.station).\\\n",
    "    order_by(desc(func.count(Measure.date))).all()\n",
    "station_counts"
   ]
  },
  {
   "cell_type": "code",
   "execution_count": 17,
   "metadata": {},
   "outputs": [
    {
     "name": "stdout",
     "output_type": "stream",
     "text": [
      "The lowest temperature recorded at the most popular station is  [(54.0,)]\n",
      "The highest temperature recorded at the most popular station is  [(85.0,)]\n",
      "The average of the temperatures recorded at the most popular station is  [(71.66378066378067,)]\n"
     ]
    }
   ],
   "source": [
    "# Using the station id from the previous query, calculate the lowest temperature recorded, \n",
    "# highest temperature recorded, and average temperature of the most active station?\n",
    "\n",
    "sel = [func.max(Measure.tobs)]\n",
    "high = session.query(*sel).\\\n",
    "    filter(Measure.station == 'USC00519281').all()\n",
    "\n",
    "sel = [func.min(Measure.tobs)]\n",
    "low = session.query(*sel).\\\n",
    "    filter(Measure.station == 'USC00519281').all()\n",
    "\n",
    "sel = [func.avg(Measure.tobs)]\n",
    "mean = session.query(*sel).\\\n",
    "    filter(Measure.station == 'USC00519281').all()\n",
    "mean\n",
    "\n",
    "print(\"The lowest temperature recorded at the most popular station is \", low)\n",
    "print(\"The highest temperature recorded at the most popular station is \", high)\n",
    "print(\"The average of the temperatures recorded at the most popular station is \", mean)\n",
    "\n",
    "# most_active = session.query(Measure.station, Measure.tobs).\\\n",
    "#     filter()"
   ]
  },
  {
   "cell_type": "code",
   "execution_count": 18,
   "metadata": {},
   "outputs": [
    {
     "data": {
      "image/png": "[encoded data removed]",
      "text/plain": [
       "<Figure size 864x576 with 1 Axes>"
      ]
     },
     "metadata": {},
     "output_type": "display_data"
    }
   ],
   "source": [
    "# Choose the station with the highest number of temperature observations.\n",
    "# Query the last 12 months of temperature observation data for this station and plot the results as a histogram\n",
    "year_most = session.query(Measure.date, Measure.tobs).\\\n",
    "    filter(Measure.station == 'USC00519281').\\\n",
    "    filter(func.date.strftime(\"%Y-%m-%d\", Measure.date) > '2016-08-23').all()\n",
    "\n",
    "year_most = pd.DataFrame(year_most)\n",
    "year_most['date'] = pd.to_datetime(year_most['date'])\n",
    "\n",
    "year_most.set_index('date', inplace=True)\n",
    "year_most.sort_values(by=['date'])\n",
    "\n",
    "fig,ax = plt.subplots(figsize=(12,8))\n",
    "ax.hist(year_most['tobs'], bins=12, label=\"tobs\")\n",
    "ax.set(xlabel=\"Temperature\", ylabel=\"Frequency\")\n",
    "plt.legend()\n",
    "\n",
    "output_file = \"Resources/tobs_histogram.png\"\n",
    "fig.savefig(output_file, metadatadict={\"Created By\":\"Joe Miller\"})\n",
    "\n",
    "plt.show()"
   ]
  },
  {
   "cell_type": "markdown",
   "metadata": {},
   "source": [
    "## Bonus Challenge Assignment"
   ]
  },
  {
   "cell_type": "code",
   "execution_count": 20,
   "metadata": {},
   "outputs": [
    {
     "name": "stdout",
     "output_type": "stream",
     "text": [
      "[(62.0, 69.57142857142857, 74.0)]\n"
     ]
    }
   ],
   "source": [
    "# This function called `calc_temps` will accept start date and end date in the format '%Y-%m-%d' \n",
    "# and return the minimum, average, and maximum temperatures for that range of dates\n",
    "def calc_temps(start_date, end_date):\n",
    "    return session.query(func.min(Measure.tobs), func.avg(Measure.tobs), func.max(Measure.tobs)).\\\n",
    "        filter(Measure.date >= start_date).filter(Measure.date <= end_date).all()\n",
    "\n",
    "# function usage example\n",
    "print(calc_temps('2012-02-28', '2012-03-05'))"
   ]
  },
  {
   "cell_type": "code",
   "execution_count": 49,
   "metadata": {},
   "outputs": [
    {
     "data": {
      "text/plain": [
       "[1.2, 2.4, 3.6, 4.8, 6.0, 7.2, 8.4, 9.6, 10.8, 12.0, 13.2, 14.4]"
      ]
     },
     "execution_count": 49,
     "metadata": {},
     "output_type": "execute_result"
    }
   ],
   "source": [
    "# Use your previous function `calc_temps` to calculate the tmin, tavg, and tmax \n",
    "# for your trip using the previous year's data for those same dates.\n",
    "[[jan_tmin, jan_tavg, jan_tmax]] = calc_temps('2016-01-01', '2016-01-31')\n",
    "[[feb_tmin, feb_tavg, feb_tmax]] = calc_temps('2016-02-01', '2016-02-28')\n",
    "[[mar_tmin, mar_tavg, mar_tmax]] = calc_temps('2016-03-01', '2016-03-31')\n",
    "[[apr_tmin, apr_tavg, apr_tmax]] = calc_temps('2016-04-01', '2016-04-30')\n",
    "[[may_tmin, may_tavg, may_tmax]] = calc_temps('2016-05-01', '2016-05-31')\n",
    "[[jun_tmin, jun_tavg, jun_tmax]] = calc_temps('2016-06-01', '2016-06-30')\n",
    "[[jul_tmin, jul_tavg, jul_tmax]] = calc_temps('2016-07-01', '2016-07-31')\n",
    "[[aug_tmin, aug_tavg, aug_tmax]] = calc_temps('2016-08-01', '2016-08-31')\n",
    "[[sept_tmin, sept_tavg, sept_tmax]] = calc_temps('2016-09-01', '2016-09-30')\n",
    "[[oct_tmin, oct_tavg, oct_tmax]] = calc_temps('2016-10-01', '2016-10-31')\n",
    "[[nov_tmin, nov_tavg, nov_tmax]] = calc_temps('2016-11-01', '2016-11-30')\n",
    "[[dec_tmin, dec_tavg, dec_tmax]] = calc_temps('2016-12-01', '2016-12-31')\n",
    "avs = [jan_tavg, feb_tavg, mar_tavg, apr_tavg, may_tavg, jun_tavg, jul_tavg, aug_tavg, sept_tavg, oct_tavg, nov_tavg, dec_tavg]\n",
    "jan_err = jan_tmax - jan_tmin\n",
    "feb_err = feb_tmax - feb_tmin\n",
    "mar_err = mar_tmax - mar_tmin\n",
    "apr_err = apr_tmax - apr_tmin\n",
    "may_err = may_tmax - may_tmin\n",
    "jun_err = jun_tmax - jun_tmin\n",
    "jul_err = jul_tmax - jul_tmin\n",
    "aug_err = aug_tmax - aug_tmin\n",
    "sept_err = sept_tmax - sept_tmin\n",
    "oct_err = oct_tmax - oct_tmin\n",
    "nov_err = nov_tmax - nov_tmin\n",
    "dec_err = dec_tmax - dec_tmin\n",
    "errs = [jan_err, feb_err, mar_err, apr_err, may_err, jun_err, jul_err, aug_err, sept_err, oct_err, nov_err, dec_err]\n",
    "pos = range(1,13)\n",
    "new_pos = []\n",
    "for item in pos:\n",
    "    item = item + (item*0.2)\n",
    "    new_pos.append(item)\n",
    "labs = ['Jan', 'Feb', 'Mar', 'Apr', 'May', 'Jun', 'Jul', 'Aug', 'Sept', 'Oct', 'Nov', 'Dec']\n",
    "new_pos"
   ]
  },
  {
   "cell_type": "code",
   "execution_count": 52,
   "metadata": {},
   "outputs": [
    {
     "data": {
      "image/png": "[encoded data removed]",
      "text/plain": [
       "<Figure size 864x576 with 1 Axes>"
      ]
     },
     "metadata": {},
     "output_type": "display_data"
    }
   ],
   "source": [
    "# Plot the results from your previous query as a bar chart. \n",
    "# Use \"Trip Avg Temp\" as your Title\n",
    "# Use the average temperature for the y value\n",
    "# Use the peak-to-peak (tmax-tmin) value as the y error bar (yerr)\n",
    "err = tmax-tmin\n",
    "fig,ax = plt.subplots(figsize=(12,8))\n",
    "ax.bar(new_pos, avs, yerr = errs, tick_label = labs)\n",
    "# ax.yerr(err)\n",
    "ax.set(xlabel=\"Month\", ylabel=\"Temp\", title=\"Temperature Averages and Ranges by Month\")\n",
    "# plt.legend()\n",
    "\n",
    "output_file = \"Resources/inches_by_date.png\"\n",
    "fig.savefig(output_file, metadatadict={\"Created By\":\"Joe Miller\"})\n",
    "\n",
    "plt.show()"
   ]
  },
  {
   "cell_type": "code",
   "execution_count": 66,
   "metadata": {},
   "outputs": [
    {
     "name": "stdout",
     "output_type": "stream",
     "text": [
      "       station  precipitation\n",
      "0  USC00516128          17.65\n",
      "1  USC00519281          15.88\n",
      "2  USC00519523          14.84\n",
      "3  USC00513117          11.12\n",
      "4  USC00519397           7.62\n",
      "5  USC00511918           4.50\n",
      "6  USC00518838           3.84\n",
      "7  USC00514830           3.18\n",
      "8  USC00517948           0.00\n"
     ]
    }
   ],
   "source": [
    "# Calculate the total amount of rainfall per weather station for your trip dates using the previous year's matching dates.\n",
    "# Sort this in descending order by precipitation amount and list the station, name, latitude, longitude, and elevation\n",
    "def rain_totals(start_date, end_date):\n",
    "    sel = [Measure.station,\n",
    "          func.total(Measure.prcp)]\n",
    "    station_counts = session.query(*sel).\\\n",
    "        group_by(Measure.station).\\\n",
    "        order_by(desc(func.total(Measure.prcp)))\n",
    "    return station_counts.\\\n",
    "        filter(Measure.date >= start_date).filter(Measure.date <= end_date).all()\n",
    "\n",
    "    \n",
    "# #     all_stat = Measure.station\n",
    "#     all_stat = [Measure.station,\n",
    "#       func.total(Measure.prcp)]\n",
    "# #     return session.query(func.min(Measure.tobs), func.avg(Measure.tobs), func.max(Measure.tobs)).\\\n",
    "# #         filter(Measure.date >= start_date).filter(Measure.date <= end_date).all()\n",
    "#     return session.query(*all_stat).all()\n",
    "prcpstat = rain_totals('2012-02-28', '2012-03-08')\n",
    "prcpstat = pd.DataFrame(prcpstat, columns=['station','precipitation'])\n",
    "print(prcpstat)"
   ]
  },
  {
   "cell_type": "code",
   "execution_count": 54,
   "metadata": {},
   "outputs": [
    {
     "data": {
      "text/plain": [
       "[(62.0, 69.15384615384616, 77.0)]"
      ]
     },
     "execution_count": 54,
     "metadata": {},
     "output_type": "execute_result"
    }
   ],
   "source": [
    "# Create a query that will calculate the daily normals \n",
    "# (i.e. the averages for tmin, tmax, and tavg for all historic data matching a specific month and day)\n",
    "\n",
    "def daily_normals(date):\n",
    "    sel = [func.min(Measure.tobs), func.avg(Measure.tobs), func.max(Measure.tobs)]\n",
    "    return session.query(*sel).filter(func.date.strftime(\"%m-%d\", Measure.date) == date).all()\n",
    "    \n",
    "daily_normals(\"01-01\")"
   ]
  },
  {
   "cell_type": "code",
   "execution_count": 79,
   "metadata": {},
   "outputs": [
    {
     "data": {
      "text/plain": [
       "[[(65.0, 70.65517241379311, 80.0)],\n",
       " [(64.0, 70.0327868852459, 76.0)],\n",
       " [(61.0, 70.36666666666666, 78.0)],\n",
       " [(60.0, 70.06896551724138, 78.0)],\n",
       " [(57.0, 69.27272727272727, 77.0)],\n",
       " [(60.0, 67.89090909090909, 76.0)]]"
      ]
     },
     "execution_count": 79,
     "metadata": {},
     "output_type": "execute_result"
    }
   ],
   "source": [
    "# calculate the daily normals for your trip\n",
    "# push each tuple of calculations into a list called `normals`\n",
    "\n",
    "# Set the start and end date of the trip\n",
    "start = '2012-02-28'\n",
    "end = '2012-03-05'\n",
    "# Use the start and end date to create a range of dates\n",
    "curr = dt.datetime.strptime(start,'%Y-%m-%d')\n",
    "end = dt.datetime.strptime(end, '%Y-%m-%d')\n",
    "end = end.strftime('%m-%d')\n",
    "end = dt.datetime.strptime(end, '%m-%d')\n",
    "normals = []\n",
    "dates = []\n",
    "while(curr != end + dt.timedelta(days=1)):\n",
    "    curr_str = curr.strftime('%m-%d')\n",
    "    curr_norm = daily_normals(curr_str)\n",
    "    normals.append(curr_norm)\n",
    "    dates.append(curr_str)\n",
    "    curr = dt.datetime.strptime(curr_str, '%m-%d')\n",
    "    curr = curr + dt.timedelta(days=1)\n",
    "normals"
   ]
  },
  {
   "cell_type": "code",
   "execution_count": 84,
   "metadata": {},
   "outputs": [
    {
     "data": {
      "text/html": [
       "<div>\n",
       "<style scoped>\n",
       "    .dataframe tbody tr th:only-of-type {\n",
       "        vertical-align: middle;\n",
       "    }\n",
       "\n",
       "    .dataframe tbody tr th {\n",
       "        vertical-align: top;\n",
       "    }\n",
       "\n",
       "    .dataframe thead th {\n",
       "        text-align: right;\n",
       "    }\n",
       "</style>\n",
       "<table border=\"1\" class=\"dataframe\">\n",
       "  <thead>\n",
       "    <tr style=\"text-align: right;\">\n",
       "      <th></th>\n",
       "      <th>0</th>\n",
       "    </tr>\n",
       "  </thead>\n",
       "  <tbody>\n",
       "    <tr>\n",
       "      <th>02-28</th>\n",
       "      <td>(65.0, 70.65517241379311, 80.0)</td>\n",
       "    </tr>\n",
       "    <tr>\n",
       "      <th>03-01</th>\n",
       "      <td>(64.0, 70.0327868852459, 76.0)</td>\n",
       "    </tr>\n",
       "    <tr>\n",
       "      <th>03-02</th>\n",
       "      <td>(61.0, 70.36666666666666, 78.0)</td>\n",
       "    </tr>\n",
       "    <tr>\n",
       "      <th>03-03</th>\n",
       "      <td>(60.0, 70.06896551724138, 78.0)</td>\n",
       "    </tr>\n",
       "    <tr>\n",
       "      <th>03-04</th>\n",
       "      <td>(57.0, 69.27272727272727, 77.0)</td>\n",
       "    </tr>\n",
       "    <tr>\n",
       "      <th>03-05</th>\n",
       "      <td>(60.0, 67.89090909090909, 76.0)</td>\n",
       "    </tr>\n",
       "  </tbody>\n",
       "</table>\n",
       "</div>"
      ],
      "text/plain": [
       "                                     0\n",
       "02-28  (65.0, 70.65517241379311, 80.0)\n",
       "03-01   (64.0, 70.0327868852459, 76.0)\n",
       "03-02  (61.0, 70.36666666666666, 78.0)\n",
       "03-03  (60.0, 70.06896551724138, 78.0)\n",
       "03-04  (57.0, 69.27272727272727, 77.0)\n",
       "03-05  (60.0, 67.89090909090909, 76.0)"
      ]
     },
     "execution_count": 84,
     "metadata": {},
     "output_type": "execute_result"
    }
   ],
   "source": [
    "# Load the previous query results into a Pandas DataFrame and add the `trip_dates` range as the `date` index\n",
    "norms_df = pd.DataFrame(normals)\n",
    "norms_df.set_axis(dates,inplace=True)\n",
    "norms_df"
   ]
  },
  {
   "cell_type": "code",
   "execution_count": null,
   "metadata": {},
   "outputs": [],
   "source": []
  }
 ],
 "metadata": {
  "kernel_info": {
   "name": "python3"
  },
  "kernelspec": {
   "display_name": "Python 3",
   "language": "python",
   "name": "python3"
  },
  "language_info": {
   "codemirror_mode": {
    "name": "ipython",
    "version": 3
   },
   "file_extension": ".py",
   "mimetype": "text/x-python",
   "name": "python",
   "nbconvert_exporter": "python",
   "pygments_lexer": "ipython3",
   "version": "3.7.7"
  },
  "nteract": {
   "version": "0.12.3"
  },
  "varInspector": {
   "cols": {
    "lenName": 16,
    "lenType": 16,
    "lenVar": 40
   },
   "kernels_config": {
    "python": {
     "delete_cmd_postfix": "",
     "delete_cmd_prefix": "del ",
     "library": "var_list.py",
     "varRefreshCmd": "print(var_dic_list())"
    },
    "r": {
     "delete_cmd_postfix": ") ",
     "delete_cmd_prefix": "rm(",
     "library": "var_list.r",
     "varRefreshCmd": "cat(var_dic_list()) "
    }
   },
   "types_to_exclude": [
    "module",
    "function",
    "builtin_function_or_method",
    "instance",
    "_Feature"
   ],
   "window_display": false
  }
 },
 "nbformat": 4,
 "nbformat_minor": 2
}
